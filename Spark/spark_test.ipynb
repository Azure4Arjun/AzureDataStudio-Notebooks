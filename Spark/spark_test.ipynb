{
    "metadata": {
        "kernelspec": {
            "name": "pysparkkernel",
            "display_name": "PySpark",
            "language": ""
        },
        "language_info": {
            "name": "pyspark",
            "mimetype": "text/x-python",
            "codemirror_mode": {
                "name": "python",
                "version": 3
            },
            "pygments_lexer": "python3"
        }
    },
    "nbformat_minor": 2,
    "nbformat": 4,
    "cells": [
        {
            "cell_type": "code",
            "source": [
                "%reload_ext sparkmagic"
            ],
            "metadata": {
                "azdata_cell_guid": "bd55f577-a6b5-440a-b566-42e84030eb94"
            },
            "outputs": [],
            "execution_count": 3
        },
        {
            "cell_type": "code",
            "source": [
                "import pandas as pd"
            ],
            "metadata": {
                "azdata_cell_guid": "9cd8db85-f681-4fdc-9c2d-e95be2799b51"
            },
            "outputs": [
                {
                    "data": {
                        "text/plain": "FloatProgress(value=0.0, bar_style='info', description='Progress:', layout=Layout(height='25px', width='50%'),…",
                        "application/vnd.jupyter.widget-view+json": {
                            "version_major": 2,
                            "version_minor": 0,
                            "model_id": "976e934f0ac44fe3ba90bc84264f2a08"
                        }
                    },
                    "metadata": {},
                    "output_type": "display_data"
                }
            ],
            "execution_count": 7
        },
        {
            "cell_type": "code",
            "source": [
                "df1 = pd.DataFrame({'a': [1, 2], 'b': [3, 4]})\n",
                "df1"
            ],
            "metadata": {
                "azdata_cell_guid": "ecf6693e-d5f3-4e1b-95db-25542cc6829a"
            },
            "outputs": [
                {
                    "data": {
                        "text/plain": "FloatProgress(value=0.0, bar_style='info', description='Progress:', layout=Layout(height='25px', width='50%'),…",
                        "application/vnd.jupyter.widget-view+json": {
                            "version_major": 2,
                            "version_minor": 0,
                            "model_id": "54fa434e74a6435c8170032982b67297"
                        }
                    },
                    "metadata": {},
                    "output_type": "display_data"
                },
                {
                    "name": "stdout",
                    "text": "   a  b\n0  1  3\n1  2  4",
                    "output_type": "stream"
                }
            ],
            "execution_count": 9
        }
    ]
}