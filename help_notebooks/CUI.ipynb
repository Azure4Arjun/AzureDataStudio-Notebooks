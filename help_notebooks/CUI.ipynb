{
    "metadata": {
        "kernelspec": {
            "name": "python3",
            "display_name": "Python 3"
        },
        "language_info": {
            "name": "python",
            "version": "3.7.3",
            "mimetype": "text/x-python",
            "codemirror_mode": {
                "name": "ipython",
                "version": 3
            },
            "pygments_lexer": "ipython3",
            "nbconvert_exporter": "python",
            "file_extension": ".py"
        }
    },
    "nbformat_minor": 2,
    "nbformat": 4,
    "cells": [
        {
            "cell_type": "markdown",
            "source": [
                "# Conversation UI\n",
                "\n",
                "### Get help through interactive chat for troubleshooting problems and errors encountered while using ADS\n",
                ""
            ],
            "metadata": {
                "azdata_cell_guid": "0673aaa7-4020-4bcb-b34d-a2806f719a73"
            }
        },
        {
            "cell_type": "markdown",
            "source": [
                "### Install Dependicies"
            ],
            "metadata": {
                "azdata_cell_guid": "0ac977c7-b732-4814-b42d-37b57a633f46"
            }
        },
        {
            "cell_type": "code",
            "source": [
                "pip install botbuilder-core asyncio aiohttp cookiecutter==1.7.0"
            ],
            "metadata": {
                "azdata_cell_guid": "92a5aec8-85e8-40bc-a70f-4e4a82f402c0",
                "tags": []
            },
            "outputs": [],
            "execution_count": null
        },
        {
            "cell_type": "code",
            "source": [
                "from cookiecutter.main import cookiecutter\n",
                "import botbuilder\n",
                "import asyncio\n",
                "import aiohttp\n",
                "import os "
            ],
            "metadata": {
                "azdata_cell_guid": "94cf4026-1dac-4dcd-9d01-5ef7e4c43759",
                "tags": []
            },
            "outputs": [],
            "execution_count": null
        },
        {
            "cell_type": "code",
            "source": [
                "currentDir = os.getcwd()\n",
                "newPath = currentDir + '/echo-bot'\n",
                "if(currentDir != newPath):\n",
                "    if(os.path.exists(newPath)):\n",
                "        \"Bot has already been created\"\n",
                "    else:\n",
                "        cookiecutter('https://github.com/microsoft/botbuilder-python/releases/download/Templates/echo.zip')\n",
                "    os.chdir(newPath)\n",
                "    print(\"Now in Bot Directory: \")\n",
                "else:\n",
                "        print('Already in Bot Directory')\n",
                "\n",
                "os.getcwd()"
            ],
            "metadata": {
                "azdata_cell_guid": "9c8be712-72ae-450b-b0fd-4ad96db8b979",
                "tags": []
            },
            "outputs": [],
            "execution_count": null
        },
        {
            "cell_type": "markdown",
            "source": [
                "### Install requriments to run bot\n",
                ""
            ],
            "metadata": {
                "azdata_cell_guid": "63dbd36e-78bc-421e-a4c2-60c226f2abe8"
            }
        },
        {
            "cell_type": "code",
            "source": [
                "pip install -r requirements.txt --user"
            ],
            "metadata": {
                "azdata_cell_guid": "c3a1e707-afbc-456a-930d-97d492dd62ff",
                "tags": []
            },
            "outputs": [],
            "execution_count": null
        },
        {
            "cell_type": "markdown",
            "source": [
                "## Now we will run the app and run it locally (currently only way to get to it is through the emulator)"
            ],
            "metadata": {
                "azdata_cell_guid": "17445b97-f27c-41d3-b9ff-9ab87d952242"
            }
        },
        {
            "cell_type": "code",
            "source": [
                "!python3 app.py"
            ],
            "metadata": {
                "azdata_cell_guid": "cf98af31-db66-4071-ae29-597904b3bce7",
                "tags": []
            },
            "outputs": [],
            "execution_count": null
        }
    ]
}