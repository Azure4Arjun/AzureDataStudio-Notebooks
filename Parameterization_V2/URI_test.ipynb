{
    "metadata": {
        "kernelspec": {
            "name": "python3",
            "display_name": "Python 3",
            "language": "python"
        },
        "language_info": {
            "name": "python",
            "version": "3.6.8",
            "mimetype": "text/x-python",
            "codemirror_mode": {
                "name": "ipython",
                "version": 3
            },
            "pygments_lexer": "ipython3",
            "nbconvert_exporter": "python",
            "file_extension": ".py"
        }
    },
    "nbformat_minor": 2,
    "nbformat": 4,
    "cells": [
        {
            "cell_type": "markdown",
            "source": [
                "# Notebook URI Parameterization\n",
                "\n",
                "## **<u>Goal</u>**:\n",
                "\n",
                "**Open Notebook URI and pass parameters via URI to a new Notebook** \n",
                "\n",
                "URI with No Parameter cell Test: [azuredatastudio://microsoft.notebook/open?https://raw.githubusercontent.com/VasuBhog/AzureDataStudio-Notebooks/main/WYSIWYG/WYSIWYG_test.ipynb?x=1&y=2&z=\"hello\"](azuredatastudio://microsoft.notebook/open?https://raw.githubusercontent.com/VasuBhog/AzureDataStudio-Notebooks/main/WYSIWYG/WYSIWYG_test.ipynb?x=1&y=2&z=\"hello\")\n",
                "\n",
                "URI with Parameter cell Test: [azuredatastudio://microsoft.notebook/open?https://raw.githubusercontent.com/VasuBhog/AzureDataStudio-Notebooks/main/Demo\\_Parameterization/Input.ipynb?x=1&y=2](azuredatastudio://microsoft.notebook/open?https://raw.githubusercontent.com/VasuBhog/AzureDataStudio-Notebooks/main/Demo_Parameterization/Input.ipynb?x=1&y=2)\n",
                "\n",
                "URI with Injected Parameter cell Test: [azuredatastudio://microsoft.notebook/open?https://raw.githubusercontent.com/VasuBhog/AzureDataStudio-Notebooks/main/Demo\\_Parameterization/Output.ipynb?x=1&y=10&z=4](azuredatastudio://microsoft.notebook/open?https://raw.githubusercontent.com/VasuBhog/AzureDataStudio-Notebooks/main/Demo_Parameterization/Output.ipynb?x=1&y=10&z=4)"
            ],
            "metadata": {
                "azdata_cell_guid": "7535ee9e-867d-4050-bf5e-945b636bd32e"
            }
        }
    ]
}