{
    "metadata": {
        "kernelspec": {
            "name": "python3",
            "display_name": "Python 3",
            "language": "python"
        },
        "language_info": {
            "name": "python",
            "version": "3.6.8",
            "mimetype": "text/x-python",
            "codemirror_mode": {
                "name": "ipython",
                "version": 3
            },
            "pygments_lexer": "ipython3",
            "nbconvert_exporter": "python",
            "file_extension": ".py"
        }
    },
    "nbformat_minor": 2,
    "nbformat": 4,
    "cells": [
        {
            "cell_type": "markdown",
            "source": [
                "# Notebook URI Parameterization\n",
                "\n",
                "Decoded Test: [azuredatastudio://microsoft.notebook/open?https://raw.githubusercontent.com/kevcunnane/msbuild\\_ads\\_demo/master/0\\_YoAzdata.ipynb?x=1&y=2](azuredatastudio://microsoft.notebook/open?https://raw.githubusercontent.com/kevcunnane/msbuild_ads_demo/master/0_YoAzdata.ipynb?x=1&y=2)\n",
                "\n",
                "Encoded URL: [azuredatastudio://microsoft.notebook/open?url=https%3A%2F%2Fraw.githubusercontent.com%2Fkevcunnane%2Fmsbuild\\_ads\\_demo%2Fmaster%2F0\\_YoAzdata.ipynb](azuredatastudio://microsoft.notebook/open?url=https%3A%2F%2Fraw.githubusercontent.com%2Fkevcunnane%2Fmsbuild_ads_demo%2Fmaster%2F0_YoAzdata.ipynb)"
            ],
            "metadata": {
                "azdata_cell_guid": "7535ee9e-867d-4050-bf5e-945b636bd32e"
            }
        },
        {
            "cell_type": "markdown",
            "source": [
                "Goals:\n",
                "\n",
                "\\- Open Notebook URI and pass parameters via URI\n",
                "\n",
                "\\- Opens new notebook with parameters"
            ],
            "metadata": {
                "azdata_cell_guid": "28c1a755-318d-409e-b1ec-de78d670f9e6"
            }
        }
    ]
}