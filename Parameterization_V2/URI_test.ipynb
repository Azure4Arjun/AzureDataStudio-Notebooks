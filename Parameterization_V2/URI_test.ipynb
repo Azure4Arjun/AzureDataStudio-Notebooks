{
    "metadata": {
        "kernelspec": {
            "name": "python3",
            "display_name": "Python 3",
            "language": "python"
        },
        "language_info": {
            "name": "python",
            "version": "3.6.8",
            "mimetype": "text/x-python",
            "codemirror_mode": {
                "name": "ipython",
                "version": 3
            },
            "pygments_lexer": "ipython3",
            "nbconvert_exporter": "python",
            "file_extension": ".py"
        }
    },
    "nbformat_minor": 2,
    "nbformat": 4,
    "cells": [
        {
            "cell_type": "markdown",
            "source": [
                "# Notebook URI Parameterization\n",
                "\n",
                "## **<u>Goal</u>**:\n",
                "\n",
                "**Open Notebook URI and pass parameters via URI to a new Notebook**\n",
                "\n",
                "  \n",
                "\n",
                "**<u>Test:</u>**\n",
                "\n",
                "URI with No Parameter cell Test: [azuredatastudio://microsoft.notebook/open?https://raw.githubusercontent.com/kevcunnane/msbuild\\_ads\\_demo/master/0\\_YoAzdata.ipynb?x=1&y=2](azuredatastudio://microsoft.notebook/open?https://raw.githubusercontent.com/kevcunnane/msbuild_ads_demo/master/0_YoAzdata.ipynb?x=1&y=2)  \n",
                "\n",
                "URI with Parameter cell Test: [azuredatastudio://microsoft.notebook/open?https://raw.githubusercontent.com/VasuBhog/AzureDataStudio-Notebooks/main/Demo\\_Parameterization/Input.ipynb?x=1&y=2](azuredatastudio://microsoft.notebook/open?https://raw.githubusercontent.com/VasuBhog/AzureDataStudio-Notebooks/main/Demo_Parameterization/Input.ipynb?x=1&y=2)"
            ],
            "metadata": {
                "azdata_cell_guid": "7535ee9e-867d-4050-bf5e-945b636bd32e"
            }
        }
    ]
}