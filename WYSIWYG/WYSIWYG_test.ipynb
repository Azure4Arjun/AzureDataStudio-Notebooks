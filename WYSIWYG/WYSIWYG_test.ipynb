{
    "metadata": {
        "kernelspec": {
            "name": "SQL",
            "display_name": "SQL",
            "language": "sql"
        },
        "language_info": {
            "name": "sql",
            "version": ""
        }
    },
    "nbformat_minor": 2,
    "nbformat": 4,
    "cells": [
        {
            "cell_type": "markdown",
            "source": [
                "# WYSIWYG TESTING NOTEBOOK\n",
                "\n",
                "**Span TEST**: \n",
                "\n",
                "\\<StorageAccountType\\><span style=\"background:red\">Standard_GRS</span>\\</StorageAccountType\\>\n",
                "\n",
                "**Heading Test:**\n",
                "\n",
                "# \\<H1test\\>\n",
                "\n",
                "## \\<H2test\\>\n",
                "\n",
                "### \\<H3test\\>\n",
                "\n",
                "**Anchor Test**: [\\\\\\\\\\<Link\\_test\\\\\\>](https://www.google.com/)  \n",
                "**Bold Test**: **\\<Bold test\\>**  \n",
                "**Italicize**: _\\<Italicize test\\>_  \n",
                "**Underline**: <u>\\<Underline\\_test\\></u> \n",
                "\n",
                "**Code**:\n",
                "\n",
                "```\n",
                "\\<Code_test\\>\n",
                "```\n",
                "\n",
                "**Lists:**\n",
                "\n",
                "- \\<test\\>\n",
                "\n",
                "1. \\<test\\> This keeps all the tags\n",
                "\n",
                "**Tag inside text:** Even if they are not HTML tags awesome Mulitple HTML tags with non-HTML tag _\\<test\\>. see our FAQ and TSG to Notebook migration schedule._"
            ],
            "metadata": {
                "azdata_cell_guid": "afc41027-52e0-4c5b-a349-b0fbf2967293"
            }
        },
        {
            "cell_type": "markdown",
            "source": [
                "# WYSIWYG text + image test:\n",
                "\n",
                "## Connect to a SQL Server\n",
                "\n",
                "1. Start Azure Data Studio.\n",
                "    \n",
                "2. The first time you run Azure Data Studio the Welcome page should open. If you don't see the Welcome page, select Help \\> Welcome. Select New Connection to open the Connection pane:\n",
                "    \n",
                "    [![New Connection Icon](https://github.com/MicrosoftDocs/sql-docs/raw/live/docs/azure-data-studio/media/quickstart-sql-server/new-connection-icon.png)](https://github.com/MicrosoftDocs/sql-docs/blob/live/docs/azure-data-studio/media/quickstart-sql-server/new-connection-icon.png)"
            ],
            "metadata": {
                "azdata_cell_guid": "4e57f280-feda-48b6-a661-b3ed73248f8f"
            }
        }
    ]
}