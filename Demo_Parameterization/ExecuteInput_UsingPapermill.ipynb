{
    "metadata": {
        "kernelspec": {
            "name": "python3",
            "display_name": "Python 3",
            "language": "python"
        },
        "language_info": {
            "name": "python",
            "version": "3.6.8",
            "mimetype": "text/x-python",
            "codemirror_mode": {
                "name": "ipython",
                "version": 3
            },
            "pygments_lexer": "ipython3",
            "nbconvert_exporter": "python",
            "file_extension": ".py"
        }
    },
    "nbformat_minor": 2,
    "nbformat": 4,
    "cells": [
        {
            "cell_type": "code",
            "source": [
                "import papermill as pm\r\n",
                "\r\n",
                "pm.execute_notebook(\r\n",
                "   '/Users/vasubhog/GitProjects/test-notebooks/Parameterization/Input.ipynb',\r\n",
                "   '/Users/vasubhog/GitProjects/test-notebooks/Parameterization/output1.ipynb',\r\n",
                "   parameters = dict(x = 10, y = 20)\r\n",
                ")"
            ],
            "metadata": {
                "azdata_cell_guid": "64c63cf8-2ec4-4a4a-bed5-681600e7d5c8",
                "tags": []
            },
            "outputs": [
                {
                    "name": "stderr",
                    "text": "\rExecuting:   0%|          | 0/5 [00:00<?, ?cell/s]",
                    "output_type": "stream"
                },
                {
                    "name": "stderr",
                    "text": "\rExecuting:  20%|██        | 1/5 [00:00<00:03,  1.15cell/s]",
                    "output_type": "stream"
                },
                {
                    "name": "stderr",
                    "text": "\rExecuting: 100%|██████████| 5/5 [00:01<00:00,  4.37cell/s]",
                    "output_type": "stream"
                },
                {
                    "name": "stderr",
                    "text": "\n",
                    "output_type": "stream"
                },
                {
                    "data": {
                        "text/plain": "{'metadata': {'kernelspec': {'name': 'python3',\n   'display_name': 'Python 3',\n   'language': 'python'},\n  'language_info': {'name': 'python',\n   'version': '3.6.8',\n   'mimetype': 'text/x-python',\n   'codemirror_mode': {'name': 'ipython', 'version': 3},\n   'pygments_lexer': 'ipython3',\n   'nbconvert_exporter': 'python',\n   'file_extension': '.py'},\n  'papermill': {'default_parameters': {},\n   'parameters': {'x': 10, 'y': 20},\n   'environment_variables': {},\n   'version': '2.2.2',\n   'input_path': '/Users/vasubhog/GitProjects/test-notebooks/Parameterization/Input.ipynb',\n   'output_path': '/Users/vasubhog/GitProjects/test-notebooks/Parameterization/output1.ipynb',\n   'start_time': '2020-11-18T21:34:14.336116',\n   'end_time': '2020-11-18T21:34:15.481536',\n   'duration': 1.14542,\n   'exception': None}},\n 'nbformat_minor': 2,\n 'nbformat': 4,\n 'cells': [{'cell_type': 'markdown',\n   'source': '# \\xa0TEST PARAMETERIZATION',\n   'metadata': {'azdata_cell_guid': '48bf6650-5191-427a-a9cc-605d0b5f490b',\n    'tags': [],\n    'papermill': {'exception': False,\n     'start_time': '2020-11-18T21:34:15.193319',\n     'end_time': '2020-11-18T21:34:15.198540',\n     'duration': 0.005221,\n     'status': 'completed'}}},\n  {'cell_type': 'code',\n   'source': 'x = 2.0\\ny = 5.0',\n   'metadata': {'azdata_cell_guid': '79858630-10c4-496f-9b96-9a3bdcf7529c',\n    'tags': ['parameters'],\n    'papermill': {'exception': False,\n     'start_time': '2020-11-18T21:34:15.203428',\n     'end_time': '2020-11-18T21:34:15.214909',\n     'duration': 0.011481,\n     'status': 'completed'},\n    'execution': {'iopub.status.busy': '2020-11-18T21:34:15.211906Z',\n     'iopub.execute_input': '2020-11-18T21:34:15.212845Z',\n     'iopub.status.idle': '2020-11-18T21:34:15.214162Z',\n     'shell.execute_reply': '2020-11-18T21:34:15.214696Z'}},\n   'outputs': [],\n   'execution_count': 1},\n  {'cell_type': 'code',\n   'metadata': {'tags': ['injected-parameters'],\n    'papermill': {'exception': False,\n     'start_time': '2020-11-18T21:34:15.218922',\n     'end_time': '2020-11-18T21:34:15.229467',\n     'duration': 0.010545,\n     'status': 'completed'},\n    'execution': {'iopub.status.busy': '2020-11-18T21:34:15.226303Z',\n     'iopub.execute_input': '2020-11-18T21:34:15.227518Z',\n     'iopub.status.idle': '2020-11-18T21:34:15.228669Z',\n     'shell.execute_reply': '2020-11-18T21:34:15.229212Z'}},\n   'execution_count': 2,\n   'source': '# Parameters\\nx = 10\\ny = 20\\n',\n   'outputs': []},\n  {'cell_type': 'code',\n   'source': 'addition = x + y\\nmultiply = x * y',\n   'metadata': {'azdata_cell_guid': '944ac0d5-0247-44a1-b6b5-6248ae7c9190',\n    'tags': [],\n    'papermill': {'exception': False,\n     'start_time': '2020-11-18T21:34:15.233479',\n     'end_time': '2020-11-18T21:34:15.244140',\n     'duration': 0.010661,\n     'status': 'completed'},\n    'execution': {'iopub.status.busy': '2020-11-18T21:34:15.240899Z',\n     'iopub.execute_input': '2020-11-18T21:34:15.241990Z',\n     'iopub.status.idle': '2020-11-18T21:34:15.243382Z',\n     'shell.execute_reply': '2020-11-18T21:34:15.243941Z'}},\n   'outputs': [],\n   'execution_count': 3},\n  {'cell_type': 'code',\n   'source': 'print(\"Addition: \" + str(addition))\\nprint(\"Multiplication: \" + str(multiply))',\n   'metadata': {'azdata_cell_guid': '416b956f-eb22-413b-b7ff-22ca40456239',\n    'tags': [],\n    'papermill': {'exception': False,\n     'start_time': '2020-11-18T21:34:15.248270',\n     'end_time': '2020-11-18T21:34:15.259583',\n     'duration': 0.011313,\n     'status': 'completed'},\n    'execution': {'iopub.status.busy': '2020-11-18T21:34:15.255837Z',\n     'iopub.execute_input': '2020-11-18T21:34:15.256702Z',\n     'iopub.status.idle': '2020-11-18T21:34:15.258817Z',\n     'shell.execute_reply': '2020-11-18T21:34:15.259379Z'}},\n   'outputs': [{'output_type': 'stream',\n     'name': 'stdout',\n     'text': 'Addition: 30\\nMultiplication: 200\\n'}],\n   'execution_count': 4}]}"
                    },
                    "metadata": {},
                    "execution_count": 2,
                    "output_type": "execute_result"
                }
            ],
            "execution_count": 2
        }
    ]
}