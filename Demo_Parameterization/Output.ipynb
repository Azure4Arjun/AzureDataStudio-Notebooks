{
    "metadata": {
        "kernelspec": {
            "name": "python3",
            "display_name": "Python 3",
            "language": "python"
        },
        "language_info": {
            "name": "python",
            "version": "3.6.8",
            "mimetype": "text/x-python",
            "codemirror_mode": {
                "name": "ipython",
                "version": 3
            },
            "pygments_lexer": "ipython3",
            "nbconvert_exporter": "python",
            "file_extension": ".py"
        },
        "papermill": {
            "default_parameters": {},
            "duration": 1.542224,
            "end_time": "2020-11-18T19:13:23.611360",
            "environment_variables": {},
            "exception": null,
            "input_path": "Input.ipynb",
            "output_path": "output.ipynb",
            "parameters": {
                "x": 10,
                "y": 20,
                "z": 10
            },
            "start_time": "2020-11-18T19:13:22.069136",
            "version": "2.2.2"
        }
    },
    "nbformat_minor": 2,
    "nbformat": 4,
    "cells": [
        {
            "cell_type": "markdown",
            "source": [
                "#  TEST PARAMETERIZATION"
            ],
            "metadata": {
                "azdata_cell_guid": "48bf6650-5191-427a-a9cc-605d0b5f490b",
                "papermill": {
                    "duration": 0.008095,
                    "end_time": "2020-11-18T19:13:23.329353",
                    "exception": false,
                    "start_time": "2020-11-18T19:13:23.321258",
                    "status": "completed"
                },
                "tags": []
            }
        },
        {
            "cell_type": "code",
            "source": [
                "x = 2.0\n",
                "y = 5.0"
            ],
            "metadata": {
                "azdata_cell_guid": "79858630-10c4-496f-9b96-9a3bdcf7529c",
                "execution": {
                    "iopub.execute_input": "2020-11-18T19:13:23.343962Z",
                    "iopub.status.busy": "2020-11-18T19:13:23.342955Z",
                    "iopub.status.idle": "2020-11-18T19:13:23.345385Z",
                    "shell.execute_reply": "2020-11-18T19:13:23.345942Z"
                },
                "papermill": {
                    "duration": 0.011457,
                    "end_time": "2020-11-18T19:13:23.346170",
                    "exception": false,
                    "start_time": "2020-11-18T19:13:23.334713",
                    "status": "completed"
                },
                "tags": [
                    "parameters"
                ]
            },
            "outputs": [],
            "execution_count": null
        },
        {
            "cell_type": "code",
            "source": [
                "# Injected-Parameters\n",
                "x = 10\n",
                "y = 20\n",
                ""
            ],
            "metadata": {
                "execution": {
                    "iopub.execute_input": "2020-11-18T19:13:23.359203Z",
                    "iopub.status.busy": "2020-11-18T19:13:23.358475Z",
                    "iopub.status.idle": "2020-11-18T19:13:23.360597Z",
                    "shell.execute_reply": "2020-11-18T19:13:23.361114Z"
                },
                "papermill": {
                    "duration": 0.010623,
                    "end_time": "2020-11-18T19:13:23.361472",
                    "exception": false,
                    "start_time": "2020-11-18T19:13:23.350849",
                    "status": "completed"
                },
                "tags": [
                    "injected-parameters"
                ],
                "azdata_cell_guid": "7756a788-d554-4109-b32c-a61eef03a9d9"
            },
            "outputs": [],
            "execution_count": null
        },
        {
            "cell_type": "code",
            "source": [
                "addition = x + y\n",
                "multiply = x * y"
            ],
            "metadata": {
                "azdata_cell_guid": "944ac0d5-0247-44a1-b6b5-6248ae7c9190",
                "execution": {
                    "iopub.execute_input": "2020-11-18T19:13:23.373532Z",
                    "iopub.status.busy": "2020-11-18T19:13:23.372826Z",
                    "iopub.status.idle": "2020-11-18T19:13:23.374868Z",
                    "shell.execute_reply": "2020-11-18T19:13:23.375508Z"
                },
                "papermill": {
                    "duration": 0.01002,
                    "end_time": "2020-11-18T19:13:23.375702",
                    "exception": false,
                    "start_time": "2020-11-18T19:13:23.365682",
                    "status": "completed"
                },
                "tags": []
            },
            "outputs": [],
            "execution_count": null
        },
        {
            "cell_type": "code",
            "source": [
                "print(\"Addition: \" + str(addition))\n",
                "print(\"Multiplication: \" + str(multiply))"
            ],
            "metadata": {
                "azdata_cell_guid": "416b956f-eb22-413b-b7ff-22ca40456239",
                "execution": {
                    "iopub.execute_input": "2020-11-18T19:13:23.388673Z",
                    "iopub.status.busy": "2020-11-18T19:13:23.387842Z",
                    "iopub.status.idle": "2020-11-18T19:13:23.391274Z",
                    "shell.execute_reply": "2020-11-18T19:13:23.391788Z"
                },
                "papermill": {
                    "duration": 0.012112,
                    "end_time": "2020-11-18T19:13:23.391986",
                    "exception": false,
                    "start_time": "2020-11-18T19:13:23.379874",
                    "status": "completed"
                },
                "tags": []
            },
            "outputs": [],
            "execution_count": null
        }
    ]
}