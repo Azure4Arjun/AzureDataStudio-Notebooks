{
    "metadata": {
        "kernelspec": {
            "name": "SQL",
            "display_name": "SQL",
            "language": "sql"
        },
        "language_info": {
            "name": "kusto",
            "version": ""
        }
    },
    "nbformat_minor": 2,
    "nbformat": 4,
    "cells": [
        {
            "cell_type": "markdown",
            "source": [
                "# Kusto Test\n",
                "\n",
                "**<u>Connection Details:</u>**\n",
                "\n",
                "Cluster: help.kusto.windows.net\n",
                "\n",
                "Database: Samples\n",
                "\n",
                "**<u>Verify</u>:**  \n",
                "\n",
                "10 rows- data seems properly formatted\n",
                "\n",
                "Example: Row 1, Col 1 ~ StartTime = 2007-09-29 08:11:00 (may be different but verify that it is in Time Date Format)"
            ],
            "metadata": {
                "azdata_cell_guid": "3f756b3e-c033-412e-91a1-d1667c0e0d16"
            }
        },
        {
            "cell_type": "code",
            "source": [
                "[@\"StormEvents\"] | take 10"
            ],
            "metadata": {
                "azdata_cell_guid": "d94e5ed1-737c-45b7-b927-8731eca97b9a"
            },
            "outputs": [
                {
                    "output_type": "display_data",
                    "data": {
                        "text/html": "Commands completed successfully."
                    },
                    "metadata": {}
                },
                {
                    "output_type": "display_data",
                    "data": {
                        "text/html": "Total execution time: 00:00:00.188"
                    },
                    "metadata": {}
                },
                {
                    "output_type": "execute_result",
                    "metadata": {},
                    "execution_count": 1,
                    "data": {
                        "application/vnd.dataresource+json": {
                            "schema": {
                                "fields": [
                                    {
                                        "name": "StartTime"
                                    },
                                    {
                                        "name": "EndTime"
                                    },
                                    {
                                        "name": "EpisodeId"
                                    },
                                    {
                                        "name": "EventId"
                                    },
                                    {
                                        "name": "State"
                                    },
                                    {
                                        "name": "EventType"
                                    },
                                    {
                                        "name": "InjuriesDirect"
                                    },
                                    {
                                        "name": "InjuriesIndirect"
                                    },
                                    {
                                        "name": "DeathsDirect"
                                    },
                                    {
                                        "name": "DeathsIndirect"
                                    },
                                    {
                                        "name": "DamageProperty"
                                    },
                                    {
                                        "name": "DamageCrops"
                                    },
                                    {
                                        "name": "Source"
                                    },
                                    {
                                        "name": "BeginLocation"
                                    },
                                    {
                                        "name": "EndLocation"
                                    },
                                    {
                                        "name": "BeginLat"
                                    },
                                    {
                                        "name": "BeginLon"
                                    },
                                    {
                                        "name": "EndLat"
                                    },
                                    {
                                        "name": "EndLon"
                                    },
                                    {
                                        "name": "EpisodeNarrative"
                                    },
                                    {
                                        "name": "EventNarrative"
                                    },
                                    {
                                        "name": "StormSummary"
                                    }
                                ]
                            },
                            "data": [
                                {
                                    "0": "2007-09-29 08:11:00",
                                    "1": "2007-09-29 08:11:00",
                                    "2": "11091",
                                    "3": "61032",
                                    "4": "ATLANTIC SOUTH",
                                    "5": "Waterspout",
                                    "6": "0",
                                    "7": "0",
                                    "8": "0",
                                    "9": "0",
                                    "10": "0",
                                    "11": "0",
                                    "12": "Trained Spotter",
                                    "13": "MELBOURNE BEACH",
                                    "14": "MELBOURNE BEACH",
                                    "15": "28.0393",
                                    "16": "-80.6048",
                                    "17": "28.0393",
                                    "18": "-80.6048",
                                    "19": "Showers and thunderstorms lingering along the coast produced waterspouts in Brevard County.",
                                    "20": "A waterspout formed in the Atlantic southeast of Melbourne Beach and briefly moved toward shore.",
                                    "21": "{\n  \"TotalDamages\": 0,\n  \"StartTime\": \"2007-09-29T08:11:00.0000000Z\",\n  \"EndTime\": \"2007-09-29T08:11:00.0000000Z\",\n  \"Details\": {\n    \"Description\": \"A waterspout formed in the Atlantic southeast of Melbourne Beach and briefly moved toward shore.\",\n    \"Location\": \"ATLANTIC SOUTH\"\n  }\n}"
                                },
                                {
                                    "0": "2007-09-18 20:00:00",
                                    "1": "2007-09-19 18:00:00",
                                    "2": "11074",
                                    "3": "60904",
                                    "4": "FLORIDA",
                                    "5": "Heavy Rain",
                                    "6": "0",
                                    "7": "0",
                                    "8": "0",
                                    "9": "0",
                                    "10": "0",
                                    "11": "0",
                                    "12": "Trained Spotter",
                                    "13": "ORMOND BEACH",
                                    "14": "NEW SMYRNA BEACH",
                                    "15": "29.28",
                                    "16": "-81.05",
                                    "17": "29.02",
                                    "18": "-80.93",
                                    "19": "Thunderstorms lingered over Volusia County.",
                                    "20": "As much as 9 inches of rain fell in a 24-hour period across parts of coastal Volusia County.",
                                    "21": "{\n  \"TotalDamages\": 0,\n  \"StartTime\": \"2007-09-18T20:00:00.0000000Z\",\n  \"EndTime\": \"2007-09-19T18:00:00.0000000Z\",\n  \"Details\": {\n    \"Description\": \"As much as 9 inches of rain fell in a 24-hour period across parts of coastal Volusia County.\",\n    \"Location\": \"FLORIDA\"\n  }\n}"
                                },
                                {
                                    "0": "2007-09-20 21:57:00",
                                    "1": "2007-09-20 22:05:00",
                                    "2": "11078",
                                    "3": "60913",
                                    "4": "FLORIDA",
                                    "5": "Tornado",
                                    "6": "0",
                                    "7": "0",
                                    "8": "0",
                                    "9": "0",
                                    "10": "6200000",
                                    "11": "0",
                                    "12": "NWS Storm Survey",
                                    "13": "EUSTIS",
                                    "14": "EUSTIS",
                                    "15": "28.8368",
                                    "16": "-81.6763",
                                    "17": "28.8628",
                                    "18": "-81.6846",
                                    "19": "As Tropical Depression number 10 began to slowly organize in the Gulf of Mexico, low level rotation allowed numerous strong mesocyclones to track north over western Orange and northern Lake counties.",
                                    "20": "A tornado touched down in the Town of Eustis at the northern end of West Crooked Lake. The tornado quickly intensified to EF1 strength as it moved north northwest through Eustis. The track was just under two miles long and had a maximum width of 300 yards.  The tornado destroyed 7 homes. Twenty seven homes received major damage and 81 homes reported minor damage. There were no serious injuries and property damage was set at $6.2 million.",
                                    "21": "{\n  \"TotalDamages\": 6200000,\n  \"StartTime\": \"2007-09-20T21:57:00.0000000Z\",\n  \"EndTime\": \"2007-09-20T22:05:00.0000000Z\",\n  \"Details\": {\n    \"Description\": \"A tornado touched down in the Town of Eustis at the northern end of West Crooked Lake. The tornado quickly intensified to EF1 strength as it moved north northwest through Eustis. The track was just under two miles long and had a maximum width of 300 yards.  The tornado destroyed 7 homes. Twenty seven homes received major damage and 81 homes reported minor damage. There were no serious injuries and property damage was set at $6.2 million.\",\n    \"Location\": \"FLORIDA\"\n  }\n}"
                                },
                                {
                                    "0": "2007-12-30 16:00:00",
                                    "1": "2007-12-30 16:05:00",
                                    "2": "11749",
                                    "3": "64588",
                                    "4": "GEORGIA",
                                    "5": "Thunderstorm Wind",
                                    "6": "0",
                                    "7": "0",
                                    "8": "0",
                                    "9": "0",
                                    "10": "2000",
                                    "11": "0",
                                    "12": "Law Enforcement",
                                    "13": "LOTTS",
                                    "14": "LOTTS",
                                    "15": "31.56",
                                    "16": "-82.89",
                                    "17": "31.56",
                                    "18": "-82.89",
                                    "19": "An area of low pressure developed near the central Gulf coast states and tracked northeast along a nearly stationary front across south Georgia during the late afternoon of December 30th.  Pre-frontal storms developed across south Georgia where surface based lifted indices were near -2 to -3. Storms had persistent mesocyclone rotations and several storms developed bow echo signatures with outbound velocities around 40 to 50 knots along the leading edge of the bow around 3-4 kft above ground level prior to warning issuance.",
                                    "20": "The county dispatch reported several trees were blown down along Quincey Batten Loop near State Road 206. The cost of tree removal was estimated.",
                                    "21": "{\n  \"TotalDamages\": 2000,\n  \"StartTime\": \"2007-12-30T16:00:00.0000000Z\",\n  \"EndTime\": \"2007-12-30T16:05:00.0000000Z\",\n  \"Details\": {\n    \"Description\": \"The county dispatch reported several trees were blown down along Quincey Batten Loop near State Road 206. The cost of tree removal was estimated.\",\n    \"Location\": \"GEORGIA\"\n  }\n}"
                                },
                                {
                                    "0": "2007-12-20 07:50:00",
                                    "1": "2007-12-20 07:53:00",
                                    "2": "12554",
                                    "3": "68796",
                                    "4": "MISSISSIPPI",
                                    "5": "Thunderstorm Wind",
                                    "6": "0",
                                    "7": "0",
                                    "8": "0",
                                    "9": "0",
                                    "10": "20000",
                                    "11": "0",
                                    "12": "Emergency Manager",
                                    "13": "CRANFIELD",
                                    "14": "LEESDALE",
                                    "15": "31.54",
                                    "16": "-91.21",
                                    "17": "31.5452",
                                    "18": "-91.1948",
                                    "19": "A small, but potent, storm system evolved and moved east across the region during the first half of the day. A large MCV (meso-scale convective vortex) developed across Central Louisiana during the morning hours and moved east adding an extra kick to the atmosphere and aided in generating a line of severe thunderstorms which produced five tornadoes and wind damage. All the severe weather was confined to the southern areas, generally along Highway 84, and extended from Natchez to Brookhaven to Laurel.",
                                    "20": "Numerous large trees were blown down with some down on power lines. Damage occurred in eastern Adams county.",
                                    "21": "{\n  \"TotalDamages\": 20000,\n  \"StartTime\": \"2007-12-20T07:50:00.0000000Z\",\n  \"EndTime\": \"2007-12-20T07:53:00.0000000Z\",\n  \"Details\": {\n    \"Description\": \"Numerous large trees were blown down with some down on power lines. Damage occurred in eastern Adams county.\",\n    \"Location\": \"MISSISSIPPI\"\n  }\n}"
                                },
                                {
                                    "0": "2007-12-20 10:32:00",
                                    "1": "2007-12-20 10:36:00",
                                    "2": "12554",
                                    "3": "68814",
                                    "4": "MISSISSIPPI",
                                    "5": "Tornado",
                                    "6": "2",
                                    "7": "0",
                                    "8": "0",
                                    "9": "0",
                                    "10": "450000",
                                    "11": "0",
                                    "12": "NWS Storm Survey",
                                    "13": "SERVICE",
                                    "14": "SERVICE",
                                    "15": "31.6879",
                                    "16": "-89.2756",
                                    "17": "31.7085",
                                    "18": "-89.2538",
                                    "19": "A small, but potent, storm system evolved and moved east across the region during the first half of the day. A large MCV (meso-scale convective vortex) developed across Central Louisiana during the morning hours and moved east adding an extra kick to the atmosphere and aided in generating a line of severe thunderstorms which produced five tornadoes and wind damage. All the severe weather was confined to the southern areas, generally along Highway 84, and extended from Natchez to Brookhaven to Laurel.",
                                    "20": "This tornado began as a small, narrow path of minor damage, including a porch being blown off a house. It reached its maximum intensity as it crossed highway 29. Here, a brick home had all of its roof structure blown off along with a few walls blown down. Three mobile homes were rolled or tossed and destroyed, with debris strewn downstream along the path. Numerous trees were snapped off or uprooted. The last damage occurred along Leroy Hill Road. A home suffered significant roof damage, an outbuilding was destroyed, a car suffered major damage, and numerous large trees were snapped or uprooted. The tornado dissipated shortly after crossing Leroy Hill Road with only a few trees snapped at the end of the path.",
                                    "21": "{\n  \"TotalDamages\": 450000,\n  \"StartTime\": \"2007-12-20T10:32:00.0000000Z\",\n  \"EndTime\": \"2007-12-20T10:36:00.0000000Z\",\n  \"Details\": {\n    \"Description\": \"This tornado began as a small, narrow path of minor damage, including a porch being blown off a house. It reached its maximum intensity as it crossed highway 29. Here, a brick home had all of its roof structure blown off along with a few walls blown down. Three mobile homes were rolled or tossed and destroyed, with debris strewn downstream along the path. Numerous trees were snapped off or uprooted. The last damage occurred along Leroy Hill Road. A home suffered significant roof damage, an outbuilding was destroyed, a car suffered major damage, and numerous large trees were snapped or uprooted. The tornado dissipated shortly after crossing Leroy Hill Road with only a few trees snapped at the end of the path.\",\n    \"Location\": \"MISSISSIPPI\"\n  }\n}"
                                },
                                {
                                    "0": "2007-12-20 08:47:00",
                                    "1": "2007-12-20 08:48:00",
                                    "2": "12554",
                                    "3": "68834",
                                    "4": "MISSISSIPPI",
                                    "5": "Thunderstorm Wind",
                                    "6": "0",
                                    "7": "0",
                                    "8": "0",
                                    "9": "0",
                                    "10": "60000",
                                    "11": "0",
                                    "12": "Emergency Manager",
                                    "13": "BROOKHAVEN",
                                    "14": "BROOKHAVEN",
                                    "15": "31.5613",
                                    "16": "-90.5095",
                                    "17": "31.5613",
                                    "18": "-90.499",
                                    "19": "A small, but potent, storm system evolved and moved east across the region during the first half of the day. A large MCV (meso-scale convective vortex) developed across Central Louisiana during the morning hours and moved east adding an extra kick to the atmosphere and aided in generating a line of severe thunderstorms which produced five tornadoes and wind damage. All the severe weather was confined to the southern areas, generally along Highway 84, and extended from Natchez to Brookhaven to Laurel.",
                                    "20": "Several trees and power lines were blown down along Zetus Road in the Zetus Community. A few of those trees were down on a mobile home which caused significant damage.",
                                    "21": "{\n  \"TotalDamages\": 60000,\n  \"StartTime\": \"2007-12-20T08:47:00.0000000Z\",\n  \"EndTime\": \"2007-12-20T08:48:00.0000000Z\",\n  \"Details\": {\n    \"Description\": \"Several trees and power lines were blown down along Zetus Road in the Zetus Community. A few of those trees were down on a mobile home which caused significant damage.\",\n    \"Location\": \"MISSISSIPPI\"\n  }\n}"
                                },
                                {
                                    "0": "2007-12-28 02:03:00",
                                    "1": "2007-12-28 02:11:00",
                                    "2": "12561",
                                    "3": "68846",
                                    "4": "MISSISSIPPI",
                                    "5": "Hail",
                                    "6": "0",
                                    "7": "0",
                                    "8": "0",
                                    "9": "0",
                                    "10": "0",
                                    "11": "0",
                                    "12": "Public",
                                    "13": "FRENCH CAMP",
                                    "14": "WEIR",
                                    "15": "33.2907",
                                    "16": "-89.3906",
                                    "17": "33.3568",
                                    "18": "-89.28",
                                    "19": "A complex storm system took shape at the end of December and brought a round of elevated hail storms to the region. The hail storms occurred as a warm front and deeper moisture surged northward during the early morning hours, generally between 1 and 6 am and were scattered about the forecast area. The hail stones ranged between penny and quarter size and caused little to no damage.",
                                    "20": "A swath of penny to quarter sized hail fell from just east of French Camp to about 6 miles north of Weir.",
                                    "21": "{\n  \"TotalDamages\": 0,\n  \"StartTime\": \"2007-12-28T02:03:00.0000000Z\",\n  \"EndTime\": \"2007-12-28T02:11:00.0000000Z\",\n  \"Details\": {\n    \"Description\": \"A swath of penny to quarter sized hail fell from just east of French Camp to about 6 miles north of Weir.\",\n    \"Location\": \"MISSISSIPPI\"\n  }\n}"
                                },
                                {
                                    "0": "2007-12-07 14:00:00",
                                    "1": "2007-12-08 04:00:00",
                                    "2": "13183",
                                    "3": "73241",
                                    "4": "AMERICAN SAMOA",
                                    "5": "Flash Flood",
                                    "6": "0",
                                    "7": "0",
                                    "8": "0",
                                    "9": "0",
                                    "10": "250000",
                                    "11": "250000",
                                    "12": "Official NWS Observations",
                                    "13": "PAGO PAGO",
                                    "14": "PAGO PAGO",
                                    "15": "-14.3",
                                    "16": "-170.6",
                                    "17": "-14.2577",
                                    "18": "-170.5669",
                                    "19": "A monsoon trough that extends all the way from the Solomon Islands southeastward to just south of the Samoa Group spread heavy rain and thunderstorms across the islands over the weekend.",
                                    "20": "The heavy rain from an active monsoonal trough that had been nearly stationary just to the south of the islands caused widespread flooding across Tutuila.  Flash Flooding was reported from the Malaeimi Valley to the Bay Area.  Heavy showers and runoffs overflowed most streams from Faganeanea to Pago Pago and dumped lots of debris and rocks on the roads.  The the X-Ray room and part of the Surgical Ward at the LBJ Medical Center was flooded as the jammed and clogged up Fagaalu stream force all the water and mud onto the hospital parking lot into part of the hospital.  Forunately, the hospital had taken all necessary precautions avoiding a major disasters in protecting lives and properties.  The National Weather Service had a Flash Flood Warning, which gave enough time for the public to prepare for the flooding.",
                                    "21": "{\n  \"TotalDamages\": 500000,\n  \"StartTime\": \"2007-12-07T14:00:00.0000000Z\",\n  \"EndTime\": \"2007-12-08T04:00:00.0000000Z\",\n  \"Details\": {\n    \"Description\": \"The heavy rain from an active monsoonal trough that had been nearly stationary just to the south of the islands caused widespread flooding across Tutuila.  Flash Flooding was reported from the Malaeimi Valley to the Bay Area.  Heavy showers and runoffs overflowed most streams from Faganeanea to Pago Pago and dumped lots of debris and rocks on the roads.  The the X-Ray room and part of the Surgical Ward at the LBJ Medical Center was flooded as the jammed and clogged up Fagaalu stream force all the water and mud onto the hospital parking lot into part of the hospital.  Forunately, the hospital had taken all necessary precautions avoiding a major disasters in protecting lives and properties.  The National Weather Service had a Flash Flood Warning, which gave enough time for the public to prepare for the flooding.\",\n    \"Location\": \"AMERICAN SAMOA\"\n  }\n}"
                                },
                                {
                                    "0": "2007-12-13 09:02:00",
                                    "1": "2007-12-13 10:30:00",
                                    "2": "11780",
                                    "3": "64725",
                                    "4": "KENTUCKY",
                                    "5": "Flood",
                                    "6": "0",
                                    "7": "0",
                                    "8": "0",
                                    "9": "0",
                                    "10": "1000",
                                    "11": "0",
                                    "12": "Law Enforcement",
                                    "13": "VANCEBURG",
                                    "14": "VANCEBURG",
                                    "15": "38.5591",
                                    "16": "-83.1976",
                                    "17": "38.5795",
                                    "18": "-83.2238",
                                    "19": "Heavy rainfall caused minor flooding in northeast Kentucky during the morning.",
                                    "20": "State Route 8 and Rock Run Road were flooded and impassable.",
                                    "21": "{\n  \"TotalDamages\": 1000,\n  \"StartTime\": \"2007-12-13T09:02:00.0000000Z\",\n  \"EndTime\": \"2007-12-13T10:30:00.0000000Z\",\n  \"Details\": {\n    \"Description\": \"State Route 8 and Rock Run Road were flooded and impassable.\",\n    \"Location\": \"KENTUCKY\"\n  }\n}"
                                }
                            ]
                        },
                        "text/html": [
                            "<table>",
                            "<tr><th>StartTime</th><th>EndTime</th><th>EpisodeId</th><th>EventId</th><th>State</th><th>EventType</th><th>InjuriesDirect</th><th>InjuriesIndirect</th><th>DeathsDirect</th><th>DeathsIndirect</th><th>DamageProperty</th><th>DamageCrops</th><th>Source</th><th>BeginLocation</th><th>EndLocation</th><th>BeginLat</th><th>BeginLon</th><th>EndLat</th><th>EndLon</th><th>EpisodeNarrative</th><th>EventNarrative</th><th>StormSummary</th></tr>",
                            "<tr><td>2007-09-29 08:11:00</td><td>2007-09-29 08:11:00</td><td>11091</td><td>61032</td><td>ATLANTIC SOUTH</td><td>Waterspout</td><td>0</td><td>0</td><td>0</td><td>0</td><td>0</td><td>0</td><td>Trained Spotter</td><td>MELBOURNE BEACH</td><td>MELBOURNE BEACH</td><td>28.0393</td><td>-80.6048</td><td>28.0393</td><td>-80.6048</td><td>Showers and thunderstorms lingering along the coast produced waterspouts in Brevard County.</td><td>A waterspout formed in the Atlantic southeast of Melbourne Beach and briefly moved toward shore.</td><td>{\n  &quot;TotalDamages&quot;: 0,\n  &quot;StartTime&quot;: &quot;2007-09-29T08:11:00.0000000Z&quot;,\n  &quot;EndTime&quot;: &quot;2007-09-29T08:11:00.0000000Z&quot;,\n  &quot;Details&quot;: {\n    &quot;Description&quot;: &quot;A waterspout formed in the Atlantic southeast of Melbourne Beach and briefly moved toward shore.&quot;,\n    &quot;Location&quot;: &quot;ATLANTIC SOUTH&quot;\n  }\n}</td></tr>",
                            "<tr><td>2007-09-18 20:00:00</td><td>2007-09-19 18:00:00</td><td>11074</td><td>60904</td><td>FLORIDA</td><td>Heavy Rain</td><td>0</td><td>0</td><td>0</td><td>0</td><td>0</td><td>0</td><td>Trained Spotter</td><td>ORMOND BEACH</td><td>NEW SMYRNA BEACH</td><td>29.28</td><td>-81.05</td><td>29.02</td><td>-80.93</td><td>Thunderstorms lingered over Volusia County.</td><td>As much as 9 inches of rain fell in a 24-hour period across parts of coastal Volusia County.</td><td>{\n  &quot;TotalDamages&quot;: 0,\n  &quot;StartTime&quot;: &quot;2007-09-18T20:00:00.0000000Z&quot;,\n  &quot;EndTime&quot;: &quot;2007-09-19T18:00:00.0000000Z&quot;,\n  &quot;Details&quot;: {\n    &quot;Description&quot;: &quot;As much as 9 inches of rain fell in a 24-hour period across parts of coastal Volusia County.&quot;,\n    &quot;Location&quot;: &quot;FLORIDA&quot;\n  }\n}</td></tr>",
                            "<tr><td>2007-09-20 21:57:00</td><td>2007-09-20 22:05:00</td><td>11078</td><td>60913</td><td>FLORIDA</td><td>Tornado</td><td>0</td><td>0</td><td>0</td><td>0</td><td>6200000</td><td>0</td><td>NWS Storm Survey</td><td>EUSTIS</td><td>EUSTIS</td><td>28.8368</td><td>-81.6763</td><td>28.8628</td><td>-81.6846</td><td>As Tropical Depression number 10 began to slowly organize in the Gulf of Mexico, low level rotation allowed numerous strong mesocyclones to track north over western Orange and northern Lake counties.</td><td>A tornado touched down in the Town of Eustis at the northern end of West Crooked Lake. The tornado quickly intensified to EF1 strength as it moved north northwest through Eustis. The track was just under two miles long and had a maximum width of 300 yards.  The tornado destroyed 7 homes. Twenty seven homes received major damage and 81 homes reported minor damage. There were no serious injuries and property damage was set at $6.2 million.</td><td>{\n  &quot;TotalDamages&quot;: 6200000,\n  &quot;StartTime&quot;: &quot;2007-09-20T21:57:00.0000000Z&quot;,\n  &quot;EndTime&quot;: &quot;2007-09-20T22:05:00.0000000Z&quot;,\n  &quot;Details&quot;: {\n    &quot;Description&quot;: &quot;A tornado touched down in the Town of Eustis at the northern end of West Crooked Lake. The tornado quickly intensified to EF1 strength as it moved north northwest through Eustis. The track was just under two miles long and had a maximum width of 300 yards.  The tornado destroyed 7 homes. Twenty seven homes received major damage and 81 homes reported minor damage. There were no serious injuries and property damage was set at $6.2 million.&quot;,\n    &quot;Location&quot;: &quot;FLORIDA&quot;\n  }\n}</td></tr>",
                            "<tr><td>2007-12-30 16:00:00</td><td>2007-12-30 16:05:00</td><td>11749</td><td>64588</td><td>GEORGIA</td><td>Thunderstorm Wind</td><td>0</td><td>0</td><td>0</td><td>0</td><td>2000</td><td>0</td><td>Law Enforcement</td><td>LOTTS</td><td>LOTTS</td><td>31.56</td><td>-82.89</td><td>31.56</td><td>-82.89</td><td>An area of low pressure developed near the central Gulf coast states and tracked northeast along a nearly stationary front across south Georgia during the late afternoon of December 30th.  Pre-frontal storms developed across south Georgia where surface based lifted indices were near -2 to -3. Storms had persistent mesocyclone rotations and several storms developed bow echo signatures with outbound velocities around 40 to 50 knots along the leading edge of the bow around 3-4 kft above ground level prior to warning issuance.</td><td>The county dispatch reported several trees were blown down along Quincey Batten Loop near State Road 206. The cost of tree removal was estimated.</td><td>{\n  &quot;TotalDamages&quot;: 2000,\n  &quot;StartTime&quot;: &quot;2007-12-30T16:00:00.0000000Z&quot;,\n  &quot;EndTime&quot;: &quot;2007-12-30T16:05:00.0000000Z&quot;,\n  &quot;Details&quot;: {\n    &quot;Description&quot;: &quot;The county dispatch reported several trees were blown down along Quincey Batten Loop near State Road 206. The cost of tree removal was estimated.&quot;,\n    &quot;Location&quot;: &quot;GEORGIA&quot;\n  }\n}</td></tr>",
                            "<tr><td>2007-12-20 07:50:00</td><td>2007-12-20 07:53:00</td><td>12554</td><td>68796</td><td>MISSISSIPPI</td><td>Thunderstorm Wind</td><td>0</td><td>0</td><td>0</td><td>0</td><td>20000</td><td>0</td><td>Emergency Manager</td><td>CRANFIELD</td><td>LEESDALE</td><td>31.54</td><td>-91.21</td><td>31.5452</td><td>-91.1948</td><td>A small, but potent, storm system evolved and moved east across the region during the first half of the day. A large MCV (meso-scale convective vortex) developed across Central Louisiana during the morning hours and moved east adding an extra kick to the atmosphere and aided in generating a line of severe thunderstorms which produced five tornadoes and wind damage. All the severe weather was confined to the southern areas, generally along Highway 84, and extended from Natchez to Brookhaven to Laurel.</td><td>Numerous large trees were blown down with some down on power lines. Damage occurred in eastern Adams county.</td><td>{\n  &quot;TotalDamages&quot;: 20000,\n  &quot;StartTime&quot;: &quot;2007-12-20T07:50:00.0000000Z&quot;,\n  &quot;EndTime&quot;: &quot;2007-12-20T07:53:00.0000000Z&quot;,\n  &quot;Details&quot;: {\n    &quot;Description&quot;: &quot;Numerous large trees were blown down with some down on power lines. Damage occurred in eastern Adams county.&quot;,\n    &quot;Location&quot;: &quot;MISSISSIPPI&quot;\n  }\n}</td></tr>",
                            "<tr><td>2007-12-20 10:32:00</td><td>2007-12-20 10:36:00</td><td>12554</td><td>68814</td><td>MISSISSIPPI</td><td>Tornado</td><td>2</td><td>0</td><td>0</td><td>0</td><td>450000</td><td>0</td><td>NWS Storm Survey</td><td>SERVICE</td><td>SERVICE</td><td>31.6879</td><td>-89.2756</td><td>31.7085</td><td>-89.2538</td><td>A small, but potent, storm system evolved and moved east across the region during the first half of the day. A large MCV (meso-scale convective vortex) developed across Central Louisiana during the morning hours and moved east adding an extra kick to the atmosphere and aided in generating a line of severe thunderstorms which produced five tornadoes and wind damage. All the severe weather was confined to the southern areas, generally along Highway 84, and extended from Natchez to Brookhaven to Laurel.</td><td>This tornado began as a small, narrow path of minor damage, including a porch being blown off a house. It reached its maximum intensity as it crossed highway 29. Here, a brick home had all of its roof structure blown off along with a few walls blown down. Three mobile homes were rolled or tossed and destroyed, with debris strewn downstream along the path. Numerous trees were snapped off or uprooted. The last damage occurred along Leroy Hill Road. A home suffered significant roof damage, an outbuilding was destroyed, a car suffered major damage, and numerous large trees were snapped or uprooted. The tornado dissipated shortly after crossing Leroy Hill Road with only a few trees snapped at the end of the path.</td><td>{\n  &quot;TotalDamages&quot;: 450000,\n  &quot;StartTime&quot;: &quot;2007-12-20T10:32:00.0000000Z&quot;,\n  &quot;EndTime&quot;: &quot;2007-12-20T10:36:00.0000000Z&quot;,\n  &quot;Details&quot;: {\n    &quot;Description&quot;: &quot;This tornado began as a small, narrow path of minor damage, including a porch being blown off a house. It reached its maximum intensity as it crossed highway 29. Here, a brick home had all of its roof structure blown off along with a few walls blown down. Three mobile homes were rolled or tossed and destroyed, with debris strewn downstream along the path. Numerous trees were snapped off or uprooted. The last damage occurred along Leroy Hill Road. A home suffered significant roof damage, an outbuilding was destroyed, a car suffered major damage, and numerous large trees were snapped or uprooted. The tornado dissipated shortly after crossing Leroy Hill Road with only a few trees snapped at the end of the path.&quot;,\n    &quot;Location&quot;: &quot;MISSISSIPPI&quot;\n  }\n}</td></tr>",
                            "<tr><td>2007-12-20 08:47:00</td><td>2007-12-20 08:48:00</td><td>12554</td><td>68834</td><td>MISSISSIPPI</td><td>Thunderstorm Wind</td><td>0</td><td>0</td><td>0</td><td>0</td><td>60000</td><td>0</td><td>Emergency Manager</td><td>BROOKHAVEN</td><td>BROOKHAVEN</td><td>31.5613</td><td>-90.5095</td><td>31.5613</td><td>-90.499</td><td>A small, but potent, storm system evolved and moved east across the region during the first half of the day. A large MCV (meso-scale convective vortex) developed across Central Louisiana during the morning hours and moved east adding an extra kick to the atmosphere and aided in generating a line of severe thunderstorms which produced five tornadoes and wind damage. All the severe weather was confined to the southern areas, generally along Highway 84, and extended from Natchez to Brookhaven to Laurel.</td><td>Several trees and power lines were blown down along Zetus Road in the Zetus Community. A few of those trees were down on a mobile home which caused significant damage.</td><td>{\n  &quot;TotalDamages&quot;: 60000,\n  &quot;StartTime&quot;: &quot;2007-12-20T08:47:00.0000000Z&quot;,\n  &quot;EndTime&quot;: &quot;2007-12-20T08:48:00.0000000Z&quot;,\n  &quot;Details&quot;: {\n    &quot;Description&quot;: &quot;Several trees and power lines were blown down along Zetus Road in the Zetus Community. A few of those trees were down on a mobile home which caused significant damage.&quot;,\n    &quot;Location&quot;: &quot;MISSISSIPPI&quot;\n  }\n}</td></tr>",
                            "<tr><td>2007-12-28 02:03:00</td><td>2007-12-28 02:11:00</td><td>12561</td><td>68846</td><td>MISSISSIPPI</td><td>Hail</td><td>0</td><td>0</td><td>0</td><td>0</td><td>0</td><td>0</td><td>Public</td><td>FRENCH CAMP</td><td>WEIR</td><td>33.2907</td><td>-89.3906</td><td>33.3568</td><td>-89.28</td><td>A complex storm system took shape at the end of December and brought a round of elevated hail storms to the region. The hail storms occurred as a warm front and deeper moisture surged northward during the early morning hours, generally between 1 and 6 am and were scattered about the forecast area. The hail stones ranged between penny and quarter size and caused little to no damage.</td><td>A swath of penny to quarter sized hail fell from just east of French Camp to about 6 miles north of Weir.</td><td>{\n  &quot;TotalDamages&quot;: 0,\n  &quot;StartTime&quot;: &quot;2007-12-28T02:03:00.0000000Z&quot;,\n  &quot;EndTime&quot;: &quot;2007-12-28T02:11:00.0000000Z&quot;,\n  &quot;Details&quot;: {\n    &quot;Description&quot;: &quot;A swath of penny to quarter sized hail fell from just east of French Camp to about 6 miles north of Weir.&quot;,\n    &quot;Location&quot;: &quot;MISSISSIPPI&quot;\n  }\n}</td></tr>",
                            "<tr><td>2007-12-07 14:00:00</td><td>2007-12-08 04:00:00</td><td>13183</td><td>73241</td><td>AMERICAN SAMOA</td><td>Flash Flood</td><td>0</td><td>0</td><td>0</td><td>0</td><td>250000</td><td>250000</td><td>Official NWS Observations</td><td>PAGO PAGO</td><td>PAGO PAGO</td><td>-14.3</td><td>-170.6</td><td>-14.2577</td><td>-170.5669</td><td>A monsoon trough that extends all the way from the Solomon Islands southeastward to just south of the Samoa Group spread heavy rain and thunderstorms across the islands over the weekend.</td><td>The heavy rain from an active monsoonal trough that had been nearly stationary just to the south of the islands caused widespread flooding across Tutuila.  Flash Flooding was reported from the Malaeimi Valley to the Bay Area.  Heavy showers and runoffs overflowed most streams from Faganeanea to Pago Pago and dumped lots of debris and rocks on the roads.  The the X-Ray room and part of the Surgical Ward at the LBJ Medical Center was flooded as the jammed and clogged up Fagaalu stream force all the water and mud onto the hospital parking lot into part of the hospital.  Forunately, the hospital had taken all necessary precautions avoiding a major disasters in protecting lives and properties.  The National Weather Service had a Flash Flood Warning, which gave enough time for the public to prepare for the flooding.</td><td>{\n  &quot;TotalDamages&quot;: 500000,\n  &quot;StartTime&quot;: &quot;2007-12-07T14:00:00.0000000Z&quot;,\n  &quot;EndTime&quot;: &quot;2007-12-08T04:00:00.0000000Z&quot;,\n  &quot;Details&quot;: {\n    &quot;Description&quot;: &quot;The heavy rain from an active monsoonal trough that had been nearly stationary just to the south of the islands caused widespread flooding across Tutuila.  Flash Flooding was reported from the Malaeimi Valley to the Bay Area.  Heavy showers and runoffs overflowed most streams from Faganeanea to Pago Pago and dumped lots of debris and rocks on the roads.  The the X-Ray room and part of the Surgical Ward at the LBJ Medical Center was flooded as the jammed and clogged up Fagaalu stream force all the water and mud onto the hospital parking lot into part of the hospital.  Forunately, the hospital had taken all necessary precautions avoiding a major disasters in protecting lives and properties.  The National Weather Service had a Flash Flood Warning, which gave enough time for the public to prepare for the flooding.&quot;,\n    &quot;Location&quot;: &quot;AMERICAN SAMOA&quot;\n  }\n}</td></tr>",
                            "<tr><td>2007-12-13 09:02:00</td><td>2007-12-13 10:30:00</td><td>11780</td><td>64725</td><td>KENTUCKY</td><td>Flood</td><td>0</td><td>0</td><td>0</td><td>0</td><td>1000</td><td>0</td><td>Law Enforcement</td><td>VANCEBURG</td><td>VANCEBURG</td><td>38.5591</td><td>-83.1976</td><td>38.5795</td><td>-83.2238</td><td>Heavy rainfall caused minor flooding in northeast Kentucky during the morning.</td><td>State Route 8 and Rock Run Road were flooded and impassable.</td><td>{\n  &quot;TotalDamages&quot;: 1000,\n  &quot;StartTime&quot;: &quot;2007-12-13T09:02:00.0000000Z&quot;,\n  &quot;EndTime&quot;: &quot;2007-12-13T10:30:00.0000000Z&quot;,\n  &quot;Details&quot;: {\n    &quot;Description&quot;: &quot;State Route 8 and Rock Run Road were flooded and impassable.&quot;,\n    &quot;Location&quot;: &quot;KENTUCKY&quot;\n  }\n}</td></tr>",
                            "</table>"
                        ]
                    }
                }
            ],
            "execution_count": 1
        }
    ]
}