{
    "metadata": {
        "kernelspec": {
            "name": "SQL",
            "display_name": "SQL",
            "language": "sql"
        },
        "language_info": {
            "name": "sql",
            "version": ""
        }
    },
    "nbformat_minor": 2,
    "nbformat": 4,
    "cells": [
        {
            "cell_type": "code",
            "source": [
                "SELECT TOP (10) [OrderID]\n",
                "      ,[CustomerID]\n",
                "      ,[SalespersonPersonID]\n",
                "      ,[PickedByPersonID]\n",
                "      ,[ContactPersonID]\n",
                "      ,[BackorderOrderID]\n",
                "      ,[OrderDate]\n",
                "      ,[ExpectedDeliveryDate]\n",
                "      ,[CustomerPurchaseOrderNumber]\n",
                "      ,[IsUndersupplyBackordered]\n",
                "      ,[Comments]\n",
                "      ,[DeliveryInstructions]\n",
                "      ,[InternalComments]\n",
                "      ,[PickingCompletedWhen]\n",
                "      ,[LastEditedBy]\n",
                "      ,[LastEditedWhen]\n",
                "  FROM [Keep_WideWorldImporters].[Sales].[Orders]"
            ],
            "metadata": {
                "azdata_cell_guid": "acd03d5b-e759-484d-a1b9-530e0a175a6f"
            },
            "outputs": [
                {
                    "output_type": "display_data",
                    "data": {
                        "text/html": "(10 rows affected)"
                    },
                    "metadata": {}
                },
                {
                    "output_type": "display_data",
                    "data": {
                        "text/html": "Total execution time: 00:00:00.010"
                    },
                    "metadata": {}
                },
                {
                    "output_type": "execute_result",
                    "execution_count": 1,
                    "data": {
                        "application/vnd.dataresource+json": {
                            "schema": {
                                "fields": [
                                    {
                                        "name": "OrderID"
                                    },
                                    {
                                        "name": "CustomerID"
                                    },
                                    {
                                        "name": "SalespersonPersonID"
                                    },
                                    {
                                        "name": "PickedByPersonID"
                                    },
                                    {
                                        "name": "ContactPersonID"
                                    },
                                    {
                                        "name": "BackorderOrderID"
                                    },
                                    {
                                        "name": "OrderDate"
                                    },
                                    {
                                        "name": "ExpectedDeliveryDate"
                                    },
                                    {
                                        "name": "CustomerPurchaseOrderNumber"
                                    },
                                    {
                                        "name": "IsUndersupplyBackordered"
                                    },
                                    {
                                        "name": "Comments"
                                    },
                                    {
                                        "name": "DeliveryInstructions"
                                    },
                                    {
                                        "name": "InternalComments"
                                    },
                                    {
                                        "name": "PickingCompletedWhen"
                                    },
                                    {
                                        "name": "LastEditedBy"
                                    },
                                    {
                                        "name": "LastEditedWhen"
                                    }
                                ]
                            },
                            "data": [
                                {
                                    "0": "1",
                                    "1": "832",
                                    "2": "2",
                                    "3": "NULL",
                                    "4": "3032",
                                    "5": "45",
                                    "6": "2013-01-01",
                                    "7": "2013-01-02",
                                    "8": "12126",
                                    "9": "1",
                                    "10": "NULL",
                                    "11": "NULL",
                                    "12": "NULL",
                                    "13": "2013-01-01 12:00:00.0000000",
                                    "14": "7",
                                    "15": "2013-01-01 12:00:00.0000000"
                                },
                                {
                                    "0": "2",
                                    "1": "803",
                                    "2": "8",
                                    "3": "NULL",
                                    "4": "3003",
                                    "5": "46",
                                    "6": "2013-01-01",
                                    "7": "2013-01-02",
                                    "8": "15342",
                                    "9": "1",
                                    "10": "NULL",
                                    "11": "NULL",
                                    "12": "NULL",
                                    "13": "2013-01-01 12:00:00.0000000",
                                    "14": "7",
                                    "15": "2013-01-01 12:00:00.0000000"
                                },
                                {
                                    "0": "3",
                                    "1": "105",
                                    "2": "7",
                                    "3": "NULL",
                                    "4": "1209",
                                    "5": "47",
                                    "6": "2013-01-01",
                                    "7": "2013-01-02",
                                    "8": "12211",
                                    "9": "1",
                                    "10": "NULL",
                                    "11": "NULL",
                                    "12": "NULL",
                                    "13": "2013-01-01 12:00:00.0000000",
                                    "14": "7",
                                    "15": "2013-01-01 12:00:00.0000000"
                                },
                                {
                                    "0": "4",
                                    "1": "57",
                                    "2": "16",
                                    "3": "3",
                                    "4": "1113",
                                    "5": "NULL",
                                    "6": "2013-01-01",
                                    "7": "2013-01-02",
                                    "8": "17129",
                                    "9": "1",
                                    "10": "NULL",
                                    "11": "NULL",
                                    "12": "NULL",
                                    "13": "2013-01-01 11:00:00.0000000",
                                    "14": "3",
                                    "15": "2013-01-01 11:00:00.0000000"
                                },
                                {
                                    "0": "5",
                                    "1": "905",
                                    "2": "3",
                                    "3": "NULL",
                                    "4": "3105",
                                    "5": "48",
                                    "6": "2013-01-01",
                                    "7": "2013-01-02",
                                    "8": "10369",
                                    "9": "1",
                                    "10": "NULL",
                                    "11": "NULL",
                                    "12": "NULL",
                                    "13": "2013-01-01 12:00:00.0000000",
                                    "14": "7",
                                    "15": "2013-01-01 12:00:00.0000000"
                                },
                                {
                                    "0": "6",
                                    "1": "976",
                                    "2": "13",
                                    "3": "3",
                                    "4": "3176",
                                    "5": "NULL",
                                    "6": "2013-01-01",
                                    "7": "2013-01-02",
                                    "8": "13383",
                                    "9": "1",
                                    "10": "NULL",
                                    "11": "NULL",
                                    "12": "NULL",
                                    "13": "2013-01-01 11:00:00.0000000",
                                    "14": "3",
                                    "15": "2013-01-01 11:00:00.0000000"
                                },
                                {
                                    "0": "7",
                                    "1": "575",
                                    "2": "8",
                                    "3": "NULL",
                                    "4": "2349",
                                    "5": "49",
                                    "6": "2013-01-01",
                                    "7": "2013-01-02",
                                    "8": "17913",
                                    "9": "1",
                                    "10": "NULL",
                                    "11": "NULL",
                                    "12": "NULL",
                                    "13": "2013-01-01 12:00:00.0000000",
                                    "14": "7",
                                    "15": "2013-01-01 12:00:00.0000000"
                                },
                                {
                                    "0": "8",
                                    "1": "964",
                                    "2": "7",
                                    "3": "NULL",
                                    "4": "3164",
                                    "5": "50",
                                    "6": "2013-01-01",
                                    "7": "2013-01-02",
                                    "8": "14518",
                                    "9": "1",
                                    "10": "NULL",
                                    "11": "NULL",
                                    "12": "NULL",
                                    "13": "2013-01-01 12:00:00.0000000",
                                    "14": "7",
                                    "15": "2013-01-01 12:00:00.0000000"
                                },
                                {
                                    "0": "9",
                                    "1": "77",
                                    "2": "7",
                                    "3": "NULL",
                                    "4": "1153",
                                    "5": "51",
                                    "6": "2013-01-01",
                                    "7": "2013-01-02",
                                    "8": "17577",
                                    "9": "1",
                                    "10": "NULL",
                                    "11": "NULL",
                                    "12": "NULL",
                                    "13": "2013-01-01 12:00:00.0000000",
                                    "14": "7",
                                    "15": "2013-01-01 12:00:00.0000000"
                                },
                                {
                                    "0": "10",
                                    "1": "191",
                                    "2": "20",
                                    "3": "NULL",
                                    "4": "1381",
                                    "5": "52",
                                    "6": "2013-01-01",
                                    "7": "2013-01-02",
                                    "8": "18030",
                                    "9": "1",
                                    "10": "NULL",
                                    "11": "NULL",
                                    "12": "NULL",
                                    "13": "2013-01-01 12:00:00.0000000",
                                    "14": "7",
                                    "15": "2013-01-01 12:00:00.0000000"
                                }
                            ]
                        },
                        "text/html": "<table><tr><th>OrderID</th><th>CustomerID</th><th>SalespersonPersonID</th><th>PickedByPersonID</th><th>ContactPersonID</th><th>BackorderOrderID</th><th>OrderDate</th><th>ExpectedDeliveryDate</th><th>CustomerPurchaseOrderNumber</th><th>IsUndersupplyBackordered</th><th>Comments</th><th>DeliveryInstructions</th><th>InternalComments</th><th>PickingCompletedWhen</th><th>LastEditedBy</th><th>LastEditedWhen</th></tr><tr><td>1</td><td>832</td><td>2</td><td>NULL</td><td>3032</td><td>45</td><td>2013-01-01</td><td>2013-01-02</td><td>12126</td><td>1</td><td>NULL</td><td>NULL</td><td>NULL</td><td>2013-01-01 12:00:00.0000000</td><td>7</td><td>2013-01-01 12:00:00.0000000</td></tr><tr><td>2</td><td>803</td><td>8</td><td>NULL</td><td>3003</td><td>46</td><td>2013-01-01</td><td>2013-01-02</td><td>15342</td><td>1</td><td>NULL</td><td>NULL</td><td>NULL</td><td>2013-01-01 12:00:00.0000000</td><td>7</td><td>2013-01-01 12:00:00.0000000</td></tr><tr><td>3</td><td>105</td><td>7</td><td>NULL</td><td>1209</td><td>47</td><td>2013-01-01</td><td>2013-01-02</td><td>12211</td><td>1</td><td>NULL</td><td>NULL</td><td>NULL</td><td>2013-01-01 12:00:00.0000000</td><td>7</td><td>2013-01-01 12:00:00.0000000</td></tr><tr><td>4</td><td>57</td><td>16</td><td>3</td><td>1113</td><td>NULL</td><td>2013-01-01</td><td>2013-01-02</td><td>17129</td><td>1</td><td>NULL</td><td>NULL</td><td>NULL</td><td>2013-01-01 11:00:00.0000000</td><td>3</td><td>2013-01-01 11:00:00.0000000</td></tr><tr><td>5</td><td>905</td><td>3</td><td>NULL</td><td>3105</td><td>48</td><td>2013-01-01</td><td>2013-01-02</td><td>10369</td><td>1</td><td>NULL</td><td>NULL</td><td>NULL</td><td>2013-01-01 12:00:00.0000000</td><td>7</td><td>2013-01-01 12:00:00.0000000</td></tr><tr><td>6</td><td>976</td><td>13</td><td>3</td><td>3176</td><td>NULL</td><td>2013-01-01</td><td>2013-01-02</td><td>13383</td><td>1</td><td>NULL</td><td>NULL</td><td>NULL</td><td>2013-01-01 11:00:00.0000000</td><td>3</td><td>2013-01-01 11:00:00.0000000</td></tr><tr><td>7</td><td>575</td><td>8</td><td>NULL</td><td>2349</td><td>49</td><td>2013-01-01</td><td>2013-01-02</td><td>17913</td><td>1</td><td>NULL</td><td>NULL</td><td>NULL</td><td>2013-01-01 12:00:00.0000000</td><td>7</td><td>2013-01-01 12:00:00.0000000</td></tr><tr><td>8</td><td>964</td><td>7</td><td>NULL</td><td>3164</td><td>50</td><td>2013-01-01</td><td>2013-01-02</td><td>14518</td><td>1</td><td>NULL</td><td>NULL</td><td>NULL</td><td>2013-01-01 12:00:00.0000000</td><td>7</td><td>2013-01-01 12:00:00.0000000</td></tr><tr><td>9</td><td>77</td><td>7</td><td>NULL</td><td>1153</td><td>51</td><td>2013-01-01</td><td>2013-01-02</td><td>17577</td><td>1</td><td>NULL</td><td>NULL</td><td>NULL</td><td>2013-01-01 12:00:00.0000000</td><td>7</td><td>2013-01-01 12:00:00.0000000</td></tr><tr><td>10</td><td>191</td><td>20</td><td>NULL</td><td>1381</td><td>52</td><td>2013-01-01</td><td>2013-01-02</td><td>18030</td><td>1</td><td>NULL</td><td>NULL</td><td>NULL</td><td>2013-01-01 12:00:00.0000000</td><td>7</td><td>2013-01-01 12:00:00.0000000</td></tr></table>"
                    },
                    "metadata": {}
                }
            ],
            "execution_count": 1
        }
    ]
}