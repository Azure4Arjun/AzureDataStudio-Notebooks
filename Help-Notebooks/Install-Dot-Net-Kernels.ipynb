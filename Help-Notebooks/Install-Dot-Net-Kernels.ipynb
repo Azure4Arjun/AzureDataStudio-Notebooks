{
    "metadata": {
        "kernelspec": {
            "name": "SQL",
            "display_name": "SQL",
            "language": "sql"
        },
        "language_info": {
            "name": "sql",
            "version": ""
        }
    },
    "nbformat_minor": 2,
    "nbformat": 4,
    "cells": [
        {
            "cell_type": "markdown",
            "source": [
                "# How to Install .NET Interactive & Use it in ADS\n",
                "\n",
                "First, make sure you have the following installed:\n",
                "- The [.NET 5.0 SDK](https://dotnet.microsoft.com/download).\n",
                "- Jupyter. Jupyter can be installed using [Anaconda](https://www.anaconda.com/distribution).\n",
                "- Open the Anaconda Prompt or Git Bash (Windows) or Terminal (macOS) and verify that Jupyter is installed and present on the path:\n",
                "    \n",
                "  ```\n",
                "  > jupyter kernelspec list\n",
                "    python3        ~\\jupyter\\kernels\\python3\n",
                "  ```\n",
                "\n",
                "- Next, in an ordinary console, install the `dotnet interactive` global tool:\n",
                "\n",
                "  ```\n",
                "  > dotnet tool install --global Microsoft.dotnet-interactive\n",
                "  ```\n",
                "\n",
                "- Install the .NET kernel by running the following within your Anaconda Prompt:\n",
                "\n",
                "  ```\n",
                "  > dotnet interactive jupyter install\n",
                "  [InstallKernelSpec] Installed kernelspec .net-csharp in ~\\jupyter\\kernels\\.net-csharp\n",
                "  .NET kernel installation succeeded\n",
                "  [InstallKernelSpec] Installed kernelspec .net-fsharp in ~\\jupyter\\kernels\\.net-fsharp\n",
                "  .NET kernel installation succeeded\n",
                "  [InstallKernelSpec] Installed kernelspec .net-powershell in ~\\jupyter\\kernels\\.net-powershell\n",
                "  .NET kernel installation succeeded\n",
                "  ```\n",
                "\n",
                "- You can verify the installation by running the following again in the Anaconda Prompt:\n",
                "\n",
                "  ```\n",
                "  > jupyter kernelspec list\n",
                "    .net-csharp    ~\\jupyter\\kernels\\.net-csharp\n",
                "    .net-fsharp    ~\\jupyter\\kernels\\.net-fsharp\n",
                "    .net-powershell ~\\jupyter\\kernels\\.net-powershell\n",
                "    python3        ~\\jupyter\\kernels\\python3\n",
                "  ```\n",
                "- Next open ADS and enable the setting **Show All Kernels** (Preview)\n",
                "  \n",
                "  ![](assets/ShowKernels.png)\n",
                "\n",
                "- Launch a New Notebook via File -> New Notebook or Keyboard Shortcuts and then **change** the kernel from SQL to any other kernel.\n",
                "  \n",
                "  ![](assets/PreNotebook.png)\n",
                "\n",
                "- Now verify you are able to see the new .Net Interactive Kernels (C#, F# and PowerShell)\n",
                "  \n",
                "  ![](assets/PostNotebook.png)\n",
                "\n",
                "  ## WOOO CONGRATS!"
            ],
            "metadata": {
                "azdata_cell_guid": "d59283b6-5987-4d18-90af-9e267c7010ee"
            }
        }
    ]
}